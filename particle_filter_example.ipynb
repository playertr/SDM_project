{
 "cells": [
  {
   "cell_type": "code",
   "execution_count": 1,
   "id": "neutral-crack",
   "metadata": {},
   "outputs": [],
   "source": [
    "import numpy as np\n",
    "from shapely.geometry import Point, Polygon\n",
    "from shapely import affinity as af\n",
    "import matplotlib.pyplot as plt\n",
    "import matplotlib.gridspec as gridspec\n",
    "from IPython import display\n",
    "import time\n",
    "import imageio\n",
    "from pathlib import Path\n",
    "\n",
    "from ActionController import ActionController"
   ]
  },
  {
   "cell_type": "code",
   "execution_count": 2,
   "id": "structured-sarah",
   "metadata": {},
   "outputs": [
    {
     "data": {
      "image/png": "[encoded data removed]",
      "text/plain": [
       "<Figure size 720x360 with 5 Axes>"
      ]
     },
     "metadata": {
      "needs_background": "light"
     },
     "output_type": "display_data"
    }
   ],
   "source": [
    "# World\n",
    "# shape = Polygon([[0, 0], [6, 0], [6, 1],[0, 1], [0, 0]]) # rectangle\n",
    "shape = Polygon([[0, 0], [6, 0], [0, 3], [0, 0]]) # triangle\n",
    "# Center shape\n",
    "shape\n",
    "x = 5\n",
    "y = 5\n",
    "theta = np.pi/3\n",
    "map_size = 10, 10\n",
    "\n",
    "# ParticleFilter\n",
    "num_particles = 1000\n",
    "\n",
    "# Experiment\n",
    "lookahead_depth = 2 ########################################################################## important shit right here\n",
    "discount = 0.9\n",
    "\n",
    "action_controller = ActionController(\n",
    "    shape, x, y, theta, map_size, \n",
    "    num_particles, \n",
    "    lookahead_depth, discount, \n",
    ")\n",
    "\n",
    "# Simulation\n",
    "max_iterations = 1000\n",
    "\n",
    "# Stopping criteria\n",
    "# Mean thresholds\n",
    "mean_xy_dif = 1\n",
    "mean_theta_dif = np.pi/8\n",
    "# Standard deviation thresholds\n",
    "std_xy_threshold = 2\n",
    "std_theta_threshold = np.pi/8\n",
    "\n",
    "\n",
    "# Visuals\n",
    "\n",
    "fig = plt.figure(figsize=(10,5))\n",
    "gs = gridspec.GridSpec(nrows=3, ncols=3)\n",
    "\n",
    "ax1 = fig.add_subplot(gs[:,0])\n",
    "ax2 = fig.add_subplot(gs[:,1])\n",
    "ax3 = fig.add_subplot(gs[0,2])\n",
    "ax4 = fig.add_subplot(gs[1,2])\n",
    "ax5 = fig.add_subplot(gs[2,2])\n",
    "\n",
    "action_controller.world.plot(ax1)\n",
    "action_controller.world.plot(ax2)\n",
    "ax1.set_title('Particles')\n",
    "ax2.set_title('Mean of Particles')\n",
    "fig.tight_layout()"
   ]
  },
  {
   "cell_type": "code",
   "execution_count": 3,
   "id": "third-chance",
   "metadata": {
    "tags": []
   },
   "outputs": [
    {
     "ename": "KeyboardInterrupt",
     "evalue": "",
     "output_type": "error",
     "traceback": [
      "\u001b[0;31m---------------------------------------------------------------------------\u001b[0m",
      "\u001b[0;31mKeyboardInterrupt\u001b[0m                         Traceback (most recent call last)",
      "\u001b[0;32m<ipython-input-3-acf2e7c59099>\u001b[0m in \u001b[0;36m<module>\u001b[0;34m\u001b[0m\n\u001b[1;32m     29\u001b[0m     \u001b[0mduration\u001b[0m \u001b[0;34m=\u001b[0m \u001b[0mend_time\u001b[0m \u001b[0;34m-\u001b[0m \u001b[0mstart_time\u001b[0m\u001b[0;34m\u001b[0m\u001b[0;34m\u001b[0m\u001b[0m\n\u001b[1;32m     30\u001b[0m \u001b[0;34m\u001b[0m\u001b[0m\n\u001b[0;32m---> 31\u001b[0;31m \u001b[0mtest\u001b[0m\u001b[0;34m(\u001b[0m\u001b[0;34m)\u001b[0m\u001b[0;34m\u001b[0m\u001b[0;34m\u001b[0m\u001b[0m\n\u001b[0m",
      "\u001b[0;32m<ipython-input-3-acf2e7c59099>\u001b[0m in \u001b[0;36mtest\u001b[0;34m()\u001b[0m\n\u001b[1;32m      6\u001b[0m     \u001b[0;32mwhile\u001b[0m \u001b[0;32mnot\u001b[0m \u001b[0maction_controller\u001b[0m\u001b[0;34m.\u001b[0m\u001b[0mconverged\u001b[0m\u001b[0;34m:\u001b[0m\u001b[0;34m\u001b[0m\u001b[0;34m\u001b[0m\u001b[0m\n\u001b[1;32m      7\u001b[0m         \u001b[0miteration\u001b[0m \u001b[0;34m+=\u001b[0m \u001b[0;36m1\u001b[0m\u001b[0;34m\u001b[0m\u001b[0;34m\u001b[0m\u001b[0m\n\u001b[0;32m----> 8\u001b[0;31m         \u001b[0maction_controller\u001b[0m\u001b[0;34m.\u001b[0m\u001b[0mtick\u001b[0m\u001b[0;34m(\u001b[0m\u001b[0;34m)\u001b[0m\u001b[0;34m\u001b[0m\u001b[0;34m\u001b[0m\u001b[0m\n\u001b[0m\u001b[1;32m      9\u001b[0m \u001b[0;34m\u001b[0m\u001b[0m\n\u001b[1;32m     10\u001b[0m         \u001b[0;31m# Visuals\u001b[0m\u001b[0;34m\u001b[0m\u001b[0;34m\u001b[0m\u001b[0;34m\u001b[0m\u001b[0m\n",
      "\u001b[0;32m~/Classes/ROB534/SDM_project/ActionController.py\u001b[0m in \u001b[0;36mtick\u001b[0;34m(self)\u001b[0m\n\u001b[1;32m     40\u001b[0m \u001b[0;34m\u001b[0m\u001b[0m\n\u001b[1;32m     41\u001b[0m     \u001b[0;32mdef\u001b[0m \u001b[0mtick\u001b[0m\u001b[0;34m(\u001b[0m\u001b[0mself\u001b[0m\u001b[0;34m)\u001b[0m\u001b[0;34m:\u001b[0m\u001b[0;34m\u001b[0m\u001b[0;34m\u001b[0m\u001b[0m\n\u001b[0;32m---> 42\u001b[0;31m         \u001b[0maction\u001b[0m \u001b[0;34m=\u001b[0m \u001b[0mself\u001b[0m\u001b[0;34m.\u001b[0m\u001b[0mget_action\u001b[0m\u001b[0;34m(\u001b[0m\u001b[0;34m)\u001b[0m\u001b[0;34m\u001b[0m\u001b[0;34m\u001b[0m\u001b[0m\n\u001b[0m\u001b[1;32m     43\u001b[0m         \u001b[0mmeasurement\u001b[0m \u001b[0;34m=\u001b[0m \u001b[0mself\u001b[0m\u001b[0;34m.\u001b[0m\u001b[0mparticle_filter\u001b[0m\u001b[0;34m.\u001b[0m\u001b[0mnoisy_measure\u001b[0m\u001b[0;34m(\u001b[0m\u001b[0;34m*\u001b[0m\u001b[0mself\u001b[0m\u001b[0;34m.\u001b[0m\u001b[0mworld\u001b[0m\u001b[0;34m.\u001b[0m\u001b[0mmeasure\u001b[0m\u001b[0;34m(\u001b[0m\u001b[0;34m*\u001b[0m\u001b[0maction\u001b[0m\u001b[0;34m)\u001b[0m\u001b[0;34m)\u001b[0m \u001b[0;31m# measurement: x, y, within_object\u001b[0m\u001b[0;34m\u001b[0m\u001b[0;34m\u001b[0m\u001b[0m\n\u001b[1;32m     44\u001b[0m         \u001b[0mself\u001b[0m\u001b[0;34m.\u001b[0m\u001b[0mparticle_filter\u001b[0m\u001b[0;34m.\u001b[0m\u001b[0mupdate\u001b[0m\u001b[0;34m(\u001b[0m\u001b[0mmeasurement\u001b[0m\u001b[0;34m)\u001b[0m\u001b[0;34m\u001b[0m\u001b[0;34m\u001b[0m\u001b[0m\n",
      "\u001b[0;32m~/Classes/ROB534/SDM_project/ActionController.py\u001b[0m in \u001b[0;36mget_action\u001b[0;34m(self)\u001b[0m\n\u001b[1;32m     76\u001b[0m     \u001b[0;32mdef\u001b[0m \u001b[0mget_action\u001b[0m\u001b[0;34m(\u001b[0m\u001b[0mself\u001b[0m\u001b[0;34m)\u001b[0m\u001b[0;34m:\u001b[0m\u001b[0;34m\u001b[0m\u001b[0;34m\u001b[0m\u001b[0m\n\u001b[1;32m     77\u001b[0m         \u001b[0;31m# return self._get_action_multiprocessing(self.previous_action, self.particle_filter, self.lookahead_depth)\u001b[0m\u001b[0;34m\u001b[0m\u001b[0;34m\u001b[0m\u001b[0;34m\u001b[0m\u001b[0m\n\u001b[0;32m---> 78\u001b[0;31m         \u001b[0;32mreturn\u001b[0m \u001b[0mself\u001b[0m\u001b[0;34m.\u001b[0m\u001b[0m_get_action_multiprocessing\u001b[0m\u001b[0;34m(\u001b[0m\u001b[0mself\u001b[0m\u001b[0;34m.\u001b[0m\u001b[0mprevious_action\u001b[0m\u001b[0;34m,\u001b[0m \u001b[0mself\u001b[0m\u001b[0;34m.\u001b[0m\u001b[0mparticle_filter\u001b[0m\u001b[0;34m,\u001b[0m \u001b[0mself\u001b[0m\u001b[0;34m.\u001b[0m\u001b[0mlookahead_depth\u001b[0m\u001b[0;34m)\u001b[0m\u001b[0;34m\u001b[0m\u001b[0;34m\u001b[0m\u001b[0m\n\u001b[0m\u001b[1;32m     79\u001b[0m \u001b[0;34m\u001b[0m\u001b[0m\n\u001b[1;32m     80\u001b[0m     \u001b[0;32mdef\u001b[0m \u001b[0m_get_action_multiprocessing\u001b[0m\u001b[0;34m(\u001b[0m\u001b[0mself\u001b[0m\u001b[0;34m,\u001b[0m \u001b[0mprevious_action\u001b[0m\u001b[0;34m,\u001b[0m \u001b[0mparticle_filter\u001b[0m\u001b[0;34m,\u001b[0m \u001b[0mlookahead_depth\u001b[0m\u001b[0;34m)\u001b[0m\u001b[0;34m:\u001b[0m\u001b[0;34m\u001b[0m\u001b[0;34m\u001b[0m\u001b[0m\n",
      "\u001b[0;32m~/Classes/ROB534/SDM_project/ActionController.py\u001b[0m in \u001b[0;36m_get_action_multiprocessing\u001b[0;34m(self, previous_action, particle_filter, lookahead_depth)\u001b[0m\n\u001b[1;32m     93\u001b[0m \u001b[0;34m\u001b[0m\u001b[0m\n\u001b[1;32m     94\u001b[0m         \u001b[0;32mwith\u001b[0m \u001b[0mmultiprocessing\u001b[0m\u001b[0;34m.\u001b[0m\u001b[0mPool\u001b[0m\u001b[0;34m(\u001b[0m\u001b[0;32mNone\u001b[0m\u001b[0;34m)\u001b[0m \u001b[0;32mas\u001b[0m \u001b[0mpool\u001b[0m\u001b[0;34m:\u001b[0m\u001b[0;34m\u001b[0m\u001b[0;34m\u001b[0m\u001b[0m\n\u001b[0;32m---> 95\u001b[0;31m             candidate_action_values = pool.map(\n\u001b[0m\u001b[1;32m     96\u001b[0m                 partial(pv_wrapper,\n\u001b[1;32m     97\u001b[0m                     \u001b[0mparticle_filter\u001b[0m\u001b[0;34m=\u001b[0m\u001b[0mparticle_filter\u001b[0m\u001b[0;34m,\u001b[0m\u001b[0;34m\u001b[0m\u001b[0;34m\u001b[0m\u001b[0m\n",
      "\u001b[0;32m~/anaconda3/envs/ROB534/lib/python3.9/multiprocessing/pool.py\u001b[0m in \u001b[0;36mmap\u001b[0;34m(self, func, iterable, chunksize)\u001b[0m\n\u001b[1;32m    362\u001b[0m         \u001b[0;32min\u001b[0m \u001b[0ma\u001b[0m \u001b[0mlist\u001b[0m \u001b[0mthat\u001b[0m \u001b[0;32mis\u001b[0m \u001b[0mreturned\u001b[0m\u001b[0;34m.\u001b[0m\u001b[0;34m\u001b[0m\u001b[0;34m\u001b[0m\u001b[0m\n\u001b[1;32m    363\u001b[0m         '''\n\u001b[0;32m--> 364\u001b[0;31m         \u001b[0;32mreturn\u001b[0m \u001b[0mself\u001b[0m\u001b[0;34m.\u001b[0m\u001b[0m_map_async\u001b[0m\u001b[0;34m(\u001b[0m\u001b[0mfunc\u001b[0m\u001b[0;34m,\u001b[0m \u001b[0miterable\u001b[0m\u001b[0;34m,\u001b[0m \u001b[0mmapstar\u001b[0m\u001b[0;34m,\u001b[0m \u001b[0mchunksize\u001b[0m\u001b[0;34m)\u001b[0m\u001b[0;34m.\u001b[0m\u001b[0mget\u001b[0m\u001b[0;34m(\u001b[0m\u001b[0;34m)\u001b[0m\u001b[0;34m\u001b[0m\u001b[0;34m\u001b[0m\u001b[0m\n\u001b[0m\u001b[1;32m    365\u001b[0m \u001b[0;34m\u001b[0m\u001b[0m\n\u001b[1;32m    366\u001b[0m     \u001b[0;32mdef\u001b[0m \u001b[0mstarmap\u001b[0m\u001b[0;34m(\u001b[0m\u001b[0mself\u001b[0m\u001b[0;34m,\u001b[0m \u001b[0mfunc\u001b[0m\u001b[0;34m,\u001b[0m \u001b[0miterable\u001b[0m\u001b[0;34m,\u001b[0m \u001b[0mchunksize\u001b[0m\u001b[0;34m=\u001b[0m\u001b[0;32mNone\u001b[0m\u001b[0;34m)\u001b[0m\u001b[0;34m:\u001b[0m\u001b[0;34m\u001b[0m\u001b[0;34m\u001b[0m\u001b[0m\n",
      "\u001b[0;32m~/anaconda3/envs/ROB534/lib/python3.9/multiprocessing/pool.py\u001b[0m in \u001b[0;36mget\u001b[0;34m(self, timeout)\u001b[0m\n\u001b[1;32m    763\u001b[0m \u001b[0;34m\u001b[0m\u001b[0m\n\u001b[1;32m    764\u001b[0m     \u001b[0;32mdef\u001b[0m \u001b[0mget\u001b[0m\u001b[0;34m(\u001b[0m\u001b[0mself\u001b[0m\u001b[0;34m,\u001b[0m \u001b[0mtimeout\u001b[0m\u001b[0;34m=\u001b[0m\u001b[0;32mNone\u001b[0m\u001b[0;34m)\u001b[0m\u001b[0;34m:\u001b[0m\u001b[0;34m\u001b[0m\u001b[0;34m\u001b[0m\u001b[0m\n\u001b[0;32m--> 765\u001b[0;31m         \u001b[0mself\u001b[0m\u001b[0;34m.\u001b[0m\u001b[0mwait\u001b[0m\u001b[0;34m(\u001b[0m\u001b[0mtimeout\u001b[0m\u001b[0;34m)\u001b[0m\u001b[0;34m\u001b[0m\u001b[0;34m\u001b[0m\u001b[0m\n\u001b[0m\u001b[1;32m    766\u001b[0m         \u001b[0;32mif\u001b[0m \u001b[0;32mnot\u001b[0m \u001b[0mself\u001b[0m\u001b[0;34m.\u001b[0m\u001b[0mready\u001b[0m\u001b[0;34m(\u001b[0m\u001b[0;34m)\u001b[0m\u001b[0;34m:\u001b[0m\u001b[0;34m\u001b[0m\u001b[0;34m\u001b[0m\u001b[0m\n\u001b[1;32m    767\u001b[0m             \u001b[0;32mraise\u001b[0m \u001b[0mTimeoutError\u001b[0m\u001b[0;34m\u001b[0m\u001b[0;34m\u001b[0m\u001b[0m\n",
      "\u001b[0;32m~/anaconda3/envs/ROB534/lib/python3.9/multiprocessing/pool.py\u001b[0m in \u001b[0;36mwait\u001b[0;34m(self, timeout)\u001b[0m\n\u001b[1;32m    760\u001b[0m \u001b[0;34m\u001b[0m\u001b[0m\n\u001b[1;32m    761\u001b[0m     \u001b[0;32mdef\u001b[0m \u001b[0mwait\u001b[0m\u001b[0;34m(\u001b[0m\u001b[0mself\u001b[0m\u001b[0;34m,\u001b[0m \u001b[0mtimeout\u001b[0m\u001b[0;34m=\u001b[0m\u001b[0;32mNone\u001b[0m\u001b[0;34m)\u001b[0m\u001b[0;34m:\u001b[0m\u001b[0;34m\u001b[0m\u001b[0;34m\u001b[0m\u001b[0m\n\u001b[0;32m--> 762\u001b[0;31m         \u001b[0mself\u001b[0m\u001b[0;34m.\u001b[0m\u001b[0m_event\u001b[0m\u001b[0;34m.\u001b[0m\u001b[0mwait\u001b[0m\u001b[0;34m(\u001b[0m\u001b[0mtimeout\u001b[0m\u001b[0;34m)\u001b[0m\u001b[0;34m\u001b[0m\u001b[0;34m\u001b[0m\u001b[0m\n\u001b[0m\u001b[1;32m    763\u001b[0m \u001b[0;34m\u001b[0m\u001b[0m\n\u001b[1;32m    764\u001b[0m     \u001b[0;32mdef\u001b[0m \u001b[0mget\u001b[0m\u001b[0;34m(\u001b[0m\u001b[0mself\u001b[0m\u001b[0;34m,\u001b[0m \u001b[0mtimeout\u001b[0m\u001b[0;34m=\u001b[0m\u001b[0;32mNone\u001b[0m\u001b[0;34m)\u001b[0m\u001b[0;34m:\u001b[0m\u001b[0;34m\u001b[0m\u001b[0;34m\u001b[0m\u001b[0m\n",
      "\u001b[0;32m~/anaconda3/envs/ROB534/lib/python3.9/threading.py\u001b[0m in \u001b[0;36mwait\u001b[0;34m(self, timeout)\u001b[0m\n\u001b[1;32m    572\u001b[0m             \u001b[0msignaled\u001b[0m \u001b[0;34m=\u001b[0m \u001b[0mself\u001b[0m\u001b[0;34m.\u001b[0m\u001b[0m_flag\u001b[0m\u001b[0;34m\u001b[0m\u001b[0;34m\u001b[0m\u001b[0m\n\u001b[1;32m    573\u001b[0m             \u001b[0;32mif\u001b[0m \u001b[0;32mnot\u001b[0m \u001b[0msignaled\u001b[0m\u001b[0;34m:\u001b[0m\u001b[0;34m\u001b[0m\u001b[0;34m\u001b[0m\u001b[0m\n\u001b[0;32m--> 574\u001b[0;31m                 \u001b[0msignaled\u001b[0m \u001b[0;34m=\u001b[0m \u001b[0mself\u001b[0m\u001b[0;34m.\u001b[0m\u001b[0m_cond\u001b[0m\u001b[0;34m.\u001b[0m\u001b[0mwait\u001b[0m\u001b[0;34m(\u001b[0m\u001b[0mtimeout\u001b[0m\u001b[0;34m)\u001b[0m\u001b[0;34m\u001b[0m\u001b[0;34m\u001b[0m\u001b[0m\n\u001b[0m\u001b[1;32m    575\u001b[0m             \u001b[0;32mreturn\u001b[0m \u001b[0msignaled\u001b[0m\u001b[0;34m\u001b[0m\u001b[0;34m\u001b[0m\u001b[0m\n\u001b[1;32m    576\u001b[0m \u001b[0;34m\u001b[0m\u001b[0m\n",
      "\u001b[0;32m~/anaconda3/envs/ROB534/lib/python3.9/threading.py\u001b[0m in \u001b[0;36mwait\u001b[0;34m(self, timeout)\u001b[0m\n\u001b[1;32m    310\u001b[0m         \u001b[0;32mtry\u001b[0m\u001b[0;34m:\u001b[0m    \u001b[0;31m# restore state no matter what (e.g., KeyboardInterrupt)\u001b[0m\u001b[0;34m\u001b[0m\u001b[0;34m\u001b[0m\u001b[0m\n\u001b[1;32m    311\u001b[0m             \u001b[0;32mif\u001b[0m \u001b[0mtimeout\u001b[0m \u001b[0;32mis\u001b[0m \u001b[0;32mNone\u001b[0m\u001b[0;34m:\u001b[0m\u001b[0;34m\u001b[0m\u001b[0;34m\u001b[0m\u001b[0m\n\u001b[0;32m--> 312\u001b[0;31m                 \u001b[0mwaiter\u001b[0m\u001b[0;34m.\u001b[0m\u001b[0macquire\u001b[0m\u001b[0;34m(\u001b[0m\u001b[0;34m)\u001b[0m\u001b[0;34m\u001b[0m\u001b[0;34m\u001b[0m\u001b[0m\n\u001b[0m\u001b[1;32m    313\u001b[0m                 \u001b[0mgotit\u001b[0m \u001b[0;34m=\u001b[0m \u001b[0;32mTrue\u001b[0m\u001b[0;34m\u001b[0m\u001b[0;34m\u001b[0m\u001b[0m\n\u001b[1;32m    314\u001b[0m             \u001b[0;32melse\u001b[0m\u001b[0;34m:\u001b[0m\u001b[0;34m\u001b[0m\u001b[0;34m\u001b[0m\u001b[0m\n",
      "\u001b[0;31mKeyboardInterrupt\u001b[0m: "
     ]
    }
   ],
   "source": [
    "def test():\n",
    "\n",
    "    # Run\n",
    "    iteration = 0\n",
    "    start_time = time.perf_counter()\n",
    "    while not action_controller.converged:\n",
    "        iteration += 1\n",
    "        action_controller.tick()\n",
    "\n",
    "        # Visuals\n",
    "\n",
    "        s = ax1.scatter(*action_controller.previous_action, c='r')\n",
    "        q = action_controller.particle_filter.draw_particles(ax1)\n",
    "        ax3.clear(); ax4.clear(); ax5.clear();\n",
    "        h1, h2, h3 = action_controller.particle_filter.draw_histogram(ax3, ax4, ax5)\n",
    "\n",
    "        x,y,t = action_controller.particle_filter.get_state() # access estimated state\n",
    "        q2 = ax2.quiver(x, y, np.cos(t), np.sin(t), label='Estimate')\n",
    "        display.display(fig)\n",
    "        display.clear_output(wait=True)\n",
    "\n",
    "        fig.suptitle(f\"iteration {iteration}\")\n",
    "        \n",
    "        s.remove()\n",
    "        q.remove()\n",
    "        q2.remove()\n",
    "\n",
    "    end_time = time.perf_counter()\n",
    "    duration = end_time - start_time\n",
    "    \n",
    "test()"
   ]
  },
  {
   "cell_type": "code",
   "execution_count": null,
   "id": "patient-values",
   "metadata": {},
   "outputs": [
    {
     "data": {
      "image/png": "[encoded data removed]",
      "text/plain": [
       "<Figure size 720x360 with 5 Axes>"
      ]
     },
     "metadata": {},
     "output_type": "display_data"
    }
   ],
   "source": [
    "# %%capture cap\n",
    "data = {}\n",
    "for depth in [4]:\n",
    "    lookahead_depth=depth\n",
    "    # Reset visuals\n",
    "    fig = plt.figure(figsize=(10,5))\n",
    "    gs = gridspec.GridSpec(nrows=3, ncols=3)\n",
    "\n",
    "    ax1 = fig.add_subplot(gs[:,0])\n",
    "    ax2 = fig.add_subplot(gs[:,1])\n",
    "    ax3 = fig.add_subplot(gs[0,2])\n",
    "    ax4 = fig.add_subplot(gs[1,2])\n",
    "    ax5 = fig.add_subplot(gs[2,2])\n",
    "\n",
    "    action_controller.world.plot(ax1)\n",
    "    action_controller.world.plot(ax2)\n",
    "    ax1.set_title('Particles')\n",
    "    ax2.set_title('Mean of Particles')\n",
    "    fig.tight_layout()\n",
    "    \n",
    "    # Reset controller\n",
    "    action_controller = ActionController(\n",
    "    shape, x, y, theta, map_size, \n",
    "    num_particles, \n",
    "    depth, discount, \n",
    "    )\n",
    "    \n",
    "    # Run\n",
    "    iteration = 0\n",
    "    start_time = time.perf_counter()\n",
    "    while not action_controller.converged:\n",
    "        iteration += 1\n",
    "        action_controller.tick()\n",
    "\n",
    "        # Visuals\n",
    "\n",
    "        s = ax1.scatter(*action_controller.previous_action, c='r')\n",
    "        q = action_controller.particle_filter.draw_particles(ax1)\n",
    "        ax3.clear(); ax4.clear(); ax5.clear();\n",
    "        h1, h2, h3 = action_controller.particle_filter.draw_histogram(ax3, ax4, ax5)\n",
    "\n",
    "        x,y,t = action_controller.particle_filter.get_state() # access estimated state\n",
    "        q2 = ax2.quiver(x, y, np.cos(t), np.sin(t), label='Estimate')\n",
    "        display.display(fig)\n",
    "        display.clear_output(wait=True)\n",
    "\n",
    "        fig.suptitle(f\"iteration {iteration}\")\n",
    "        fig.savefig(f\"3.17.2021/depth={lookahead_depth}_iteration={iteration if iteration >= 10 else '0' + str(iteration)}.png\", format='png')\n",
    "\n",
    "        s.remove()\n",
    "        q.remove()\n",
    "        q2.remove()\n",
    "\n",
    "        if iteration == max_iterations:\n",
    "            break\n",
    "\n",
    "    end_time = time.perf_counter()\n",
    "    duration = end_time - start_time\n",
    "\n",
    "    np.save(f\"3.17.2021/entropies_depth={lookahead_depth}_duration={duration:.2f}_sec.npy\", np.array(action_controller.entropies))\n",
    "    np.save(f\"3.17.2021/costs_depth={lookahead_depth}, duration={duration:.2f}_sec.npy\", np.array(action_controller.costs))\n"
   ]
  },
  {
   "cell_type": "markdown",
   "id": "optional-andrew",
   "metadata": {},
   "source": [
    "### Make figures"
   ]
  },
  {
   "cell_type": "code",
   "execution_count": null,
   "id": "incomplete-spoke",
   "metadata": {},
   "outputs": [],
   "source": [
    "lookahead_depth = 2\n",
    "gif_path = f\"SDM gif slow - 3.7.2021 - lookahead_depth={lookahead_depth}.gif\"\n",
    "image_dir = Path(f\"SDM sim - 3.7.2021 - lookahead_depth={lookahead_depth}\")\n",
    "with imageio.get_writer(gif_path, mode='I', fps=5) as writer:\n",
    "    for image_path in image_dir.iterdir():\n",
    "        writer.append_data(imageio.imread(image_path))\n"
   ]
  },
  {
   "cell_type": "code",
   "execution_count": null,
   "id": "streaming-february",
   "metadata": {},
   "outputs": [],
   "source": [
    "entropies_lookahead_depth_0 = np.load(\"SDM sim entropies - 3.7.2021 - lookahead_depth=0, duration=83.45 sec.npy\")\n",
    "entropies_lookahead_depth_1 = np.load(\"SDM sim entropies - 3.7.2021 - lookahead_depth=1, duration=394.70 sec.npy\")\n",
    "entropies_lookahead_depth_2 = np.load(\"SDM sim entropies - 3.7.2021 - lookahead_depth=2, duration=7152.99 sec.npy\")\n",
    "costs_lookahead_depth_0 = np.load(\"SDM sim costs - 3.7.2021 - lookahead_depth=0, duration=83.45 sec.npy\")\n",
    "costs_lookahead_depth_1 = np.load(\"SDM sim costs - 3.7.2021 - lookahead_depth=1, duration=394.70 sec.npy\")\n",
    "costs_lookahead_depth_2 = np.load(\"SDM sim costs - 3.7.2021 - lookahead_depth=2, duration=7152.99 sec.npy\")\n",
    "\n",
    "costs_lookahead_depth_0 = np.cumsum(costs_lookahead_depth_0)\n",
    "costs_lookahead_depth_1 = np.cumsum(costs_lookahead_depth_1)\n",
    "costs_lookahead_depth_2 = np.cumsum(costs_lookahead_depth_2)\n",
    "\n",
    "fig, axs = plt.subplots(2, 3, sharex='col', sharey='row', figsize=(16, 8))\n",
    "# fig.suptitle(\"Entropies and Costs\", fontsize=24)\n",
    "\n",
    "for col, ax in enumerate(axs[0]):\n",
    "    ax.set_title(f\"Lookahead depth {col}\", fontsize=16)\n",
    "    ax.tick_params(labelsize=12)\n",
    "for col, ax in enumerate(axs[1]):\n",
    "    ax.set_xlabel(f\"iterations\", fontsize=16)\n",
    "    ax.tick_params(labelsize=12)\n",
    "\n",
    "axs[0, 0].set_ylabel(\"entropies\", rotation=\"vertical\", fontsize=16)\n",
    "axs[1, 0].set_ylabel(\"costs\", rotation=\"vertical\", fontsize=16)\n",
    "\n",
    "axs[0, 0].plot(entropies_lookahead_depth_0, 'co')\n",
    "axs[0, 1].plot(entropies_lookahead_depth_1, 'co')\n",
    "axs[0, 2].plot(entropies_lookahead_depth_2, 'co')\n",
    "axs[1, 0].plot(costs_lookahead_depth_0, color='cornflowerblue', marker='o')\n",
    "axs[1, 1].plot(costs_lookahead_depth_1, color='cornflowerblue', marker='o')\n",
    "axs[1, 2].plot(costs_lookahead_depth_2, color='cornflowerblue', marker='o')\n",
    "\n",
    "fig.savefig(f\"SDM composite panel of entropy and cost.png\")"
   ]
  },
  {
   "cell_type": "markdown",
   "id": "respected-majority",
   "metadata": {},
   "source": [
    "# Tim's work below"
   ]
  },
  {
   "cell_type": "code",
   "execution_count": null,
   "id": "worth-median",
   "metadata": {},
   "outputs": [],
   "source": [
    "# particle_filter_example.ipynb\n",
    "# February 16, 2021\n",
    "# Tim Player playert@oregonstate.edu"
   ]
  },
  {
   "cell_type": "code",
   "execution_count": null,
   "id": "three-ending",
   "metadata": {},
   "outputs": [],
   "source": [
    "from shapely.geometry import Point, Polygon\n",
    "from StateEstimator import ParticleFilter\n",
    "from World import World\n",
    "import matplotlib.pyplot as plt\n",
    "import matplotlib.gridspec as gridspec\n",
    "import numpy as np\n",
    "from IPython import display\n",
    "import time"
   ]
  },
  {
   "cell_type": "markdown",
   "id": "tired-genetics",
   "metadata": {},
   "source": [
    "### Define a 2D World containing an object."
   ]
  },
  {
   "cell_type": "code",
   "execution_count": null,
   "id": "vietnamese-spanish",
   "metadata": {},
   "outputs": [],
   "source": [
    "# Define the shape, location, and angle of the object.\n",
    "shape = Polygon([[0, 0], [6, 0], [6, 5], [0, 0]])\n",
    "x = 3\n",
    "y = 5\n",
    "theta = np.pi/6\n",
    "\n",
    "# Create a World object to store the map and do measurements.\n",
    "map_size = (10,10) \n",
    "w = World(shape, x, y, theta, map_size)"
   ]
  },
  {
   "cell_type": "code",
   "execution_count": null,
   "id": "surrounded-tourism",
   "metadata": {},
   "outputs": [],
   "source": [
    "fig, ax = plt.subplots()\n",
    "w.plot(ax)"
   ]
  },
  {
   "cell_type": "markdown",
   "id": "integral-season",
   "metadata": {},
   "source": [
    "### Run particle filter, measuring randomly"
   ]
  },
  {
   "cell_type": "code",
   "execution_count": null,
   "id": "daily-singing",
   "metadata": {},
   "outputs": [],
   "source": [
    "# Make a particle  filter\n",
    "n = 500 # run for n steps.\n",
    "pf = ParticleFilter(shape, 1000, map_size)\n",
    "\n",
    "# Set up two plots\n",
    "fig = plt.figure(figsize=(10,5))\n",
    "gs = gridspec.GridSpec(nrows=3, ncols=3)\n",
    "\n",
    "ax1 = fig.add_subplot(gs[:,0])\n",
    "ax2 = fig.add_subplot(gs[:,1])\n",
    "ax3 = fig.add_subplot(gs[0,2])\n",
    "ax4 = fig.add_subplot(gs[1,2])\n",
    "ax5 = fig.add_subplot(gs[2,2])\n",
    "\n",
    "w.plot(ax1)\n",
    "w.plot(ax2)\n",
    "ax1.set_title('Particles')\n",
    "ax2.set_title('Mean of Particles')\n",
    "fig.tight_layout()\n",
    "\n",
    "rand_entropies = []\n",
    "# Repeatedly update the particle filter, measuring randomly.\n",
    "for i in range(n):\n",
    "    # select random measurement\n",
    "    x = np.random.uniform(0,map_size[0])\n",
    "    y = np.random.uniform(0,map_size[1])\n",
    "    \n",
    "    # update particle filter with measurement\n",
    "    z = w.measure(x, y)\n",
    "    pf.update(z)\n",
    "    rand_entropies.append(pf.get_entropy())\n",
    "    \n",
    "    # Plot\n",
    "    s = ax1.scatter(z[0], z[1], c='r')\n",
    "    q = pf.draw_particles(ax1)\n",
    "    ax3.clear(); ax4.clear(); ax5.clear();\n",
    "    h1, h2, h3 = pf.draw_histogram(ax3, ax4, ax5)\n",
    "    \n",
    "    x,y,t = pf.get_state() # access estimated state\n",
    "    q2 = ax2.quiver(x, y, np.cos(t), np.sin(t), label='Estimate')\n",
    "    display.display(fig)\n",
    "    display.clear_output(wait=True)\n",
    "    if i != n-1:\n",
    "        q.remove()\n",
    "        s.remove()"
   ]
  },
  {
   "cell_type": "code",
   "execution_count": null,
   "id": "tropical-affect",
   "metadata": {},
   "outputs": [],
   "source": [
    "plt.plot(rand_entropies)"
   ]
  },
  {
   "cell_type": "markdown",
   "id": "latest-destruction",
   "metadata": {},
   "source": [
    "### Run particle filter, prompting user for input"
   ]
  },
  {
   "cell_type": "code",
   "execution_count": null,
   "id": "excessive-bracket",
   "metadata": {},
   "outputs": [],
   "source": [
    "# Make a particle  filter\n",
    "pf = ParticleFilter(shape, 1000, map_size)\n",
    "\n",
    "# Set up two plots\n",
    "fig = plt.figure(figsize=(10,5))\n",
    "gs = gridspec.GridSpec(nrows=3, ncols=3)\n",
    "\n",
    "ax1 = fig.add_subplot(gs[:,0])\n",
    "ax2 = fig.add_subplot(gs[:,1])\n",
    "ax3 = fig.add_subplot(gs[0,2])\n",
    "ax4 = fig.add_subplot(gs[1,2])\n",
    "ax5 = fig.add_subplot(gs[2,2])\n",
    "\n",
    "w.plot(ax1)\n",
    "w.plot(ax2)\n",
    "ax1.set_title('Particles')\n",
    "ax2.set_title('Mean of Particles')\n",
    "fig.tight_layout()\n",
    "\n",
    "# Repeatedly update the particle filter, measuring at user-defined locations.\n",
    "while(True):\n",
    "    # select random measurement\n",
    "    try:\n",
    "        x,y = tuple(float(x.strip()) for x in input(\"X,Y coordinate to measure:\").split(','))\n",
    "    except ValueError as e:\n",
    "        print(e)\n",
    "        continue\n",
    "        \n",
    "    # update particle filter with measurement\n",
    "    z = w.measure(x, y)\n",
    "    pf.update(z)\n",
    "    \n",
    "    # Plot\n",
    "    s = ax1.scatter(z[0], z[1], c='r')\n",
    "    q = pf.draw_particles(ax1)\n",
    "    ax3.clear(); ax4.clear(); ax5.clear();\n",
    "    h1, h2, h3 = pf.draw_histogram(ax3, ax4, ax5)\n",
    "    \n",
    "    x,y,t = pf.get_state() # access estimated state\n",
    "    q2 = ax2.quiver(x, y, np.cos(t), np.sin(t), label='Estimate')\n",
    "    display.display(fig)\n",
    "    display.clear_output(wait=True)\n",
    "\n",
    "    q.remove()\n",
    "    s.remove()"
   ]
  },
  {
   "cell_type": "code",
   "execution_count": null,
   "id": "compatible-cleaning",
   "metadata": {},
   "outputs": [],
   "source": []
  }
 ],
 "metadata": {
  "kernelspec": {
   "display_name": "ROB534",
   "language": "python",
   "name": "rob534"
  },
  "language_info": {
   "codemirror_mode": {
    "name": "ipython",
    "version": 3
   },
   "file_extension": ".py",
   "mimetype": "text/x-python",
   "name": "python",
   "nbconvert_exporter": "python",
   "pygments_lexer": "ipython3",
   "version": "3.9.2"
  }
 },
 "nbformat": 4,
 "nbformat_minor": 5
}
